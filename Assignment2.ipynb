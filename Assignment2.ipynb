{
 "cells": [
  {
   "cell_type": "code",
   "execution_count": 1,
   "id": "46209072-48c8-4093-a0b9-c601c196c049",
   "metadata": {},
   "outputs": [],
   "source": [
    "#Answer no 1"
   ]
  },
  {
   "cell_type": "code",
   "execution_count": 3,
   "id": "1f6371a4-a441-4cb8-8b65-41b5e811e793",
   "metadata": {},
   "outputs": [],
   "source": [
    "#read_csv(): This function is used to read data from a CSV file and create a DataFrame.\n",
    "#import pandas as pd\n",
    "\n",
    "#df = pd.read_csv('data.csv')\n",
    "#print(df)\n"
   ]
  },
  {
   "cell_type": "code",
   "execution_count": 11,
   "id": "5f7b9280-7653-4169-9c0c-945ad6379a92",
   "metadata": {},
   "outputs": [
    {
     "name": "stdout",
     "output_type": "stream",
     "text": [
      "      Name  Age      City\n",
      "0     John   25  New York\n",
      "1     Emma   28    London\n",
      "2  Michael   32     Paris\n"
     ]
    }
   ],
   "source": [
    "#head(): This function is used to display the first few rows of a DataFrame.\n",
    "\n",
    "data = {'Name': ['John', 'Emma', 'Michael', 'Sophia', 'William'],\n",
    "        'Age': [25, 28, 32, 29, 35],\n",
    "        'City': ['New York', 'London', 'Paris', 'Tokyo', 'Sydney']}\n",
    "df = pd.DataFrame(data)\n",
    "\n",
    "\n",
    "print(df.head(3))\n"
   ]
  },
  {
   "cell_type": "code",
   "execution_count": 4,
   "id": "2232cdfd-f184-4e9b-b88f-e8eae139173d",
   "metadata": {},
   "outputs": [
    {
     "ename": "IndentationError",
     "evalue": "unexpected indent (3365782380.py, line 3)",
     "output_type": "error",
     "traceback": [
      "\u001b[0;36m  Cell \u001b[0;32mIn[4], line 3\u001b[0;36m\u001b[0m\n\u001b[0;31m    'Age': [25, 28, 32, 29, 35],\u001b[0m\n\u001b[0m    ^\u001b[0m\n\u001b[0;31mIndentationError\u001b[0m\u001b[0;31m:\u001b[0m unexpected indent\n"
     ]
    }
   ],
   "source": [
    "#describe(): This function provides summary statistics of numerical columns in a DataFrame.\n",
    "#data = {'Name': ['John', 'Emma', 'Michael', 'Sophia', 'William'],\n",
    "        'Age': [25, 28, 32, 29, 35],\n",
    "        'City': ['New York', 'London', 'Paris', 'Tokyo', 'Sydney']}\n",
    "#df = pd.DataFrame(data)\n",
    "#print(df.describe())\n"
   ]
  },
  {
   "cell_type": "code",
   "execution_count": 6,
   "id": "9e60f6f5-0171-4468-8ea3-145b28d5744d",
   "metadata": {},
   "outputs": [],
   "source": [
    "#to_csv(): This function is used to write the contents of a DataFrame to a CSV file.\n",
    "\n",
    "data = {'Name': ['John', 'Emma', 'Michael', 'Sophia', 'William'],\n",
    "        'Age': [25, 28, 32, 29, 35],\n",
    "        'City': ['New York', 'London', 'Paris', 'Tokyo', 'Sydney']}\n",
    "df = pd.DataFrame(data)\n",
    "\n",
    "# Write DataFrame to a CSV file\n",
    "df.to_csv('output.csv', index=False)\n"
   ]
  },
  {
   "cell_type": "code",
   "execution_count": null,
   "id": "cd2d3659-c591-429c-bdbb-08c498f472bd",
   "metadata": {},
   "outputs": [],
   "source": [
    "#groupby(): This function is used for grouping data based on a specific column and performing aggregations.\n",
    "import pandas as pd\n",
    "\n",
    "# Create a DataFrame\n",
    "data = {'Name': ['John', 'Emma', 'Michael', 'Sophia', 'William'],\n",
    "        'Age': [25, 28, 32, 29, 35],\n",
    "        'City': ['New York', 'London', 'Paris', 'Tokyo', 'Sydney']}\n",
    "df = pd.DataFrame(data)\n",
    "\n",
    "# Group data by 'City' and calculate the average age\n",
    "grouped = df.groupby('City').mean()\n",
    "print(grouped)\n"
   ]
  },
  {
   "cell_type": "code",
   "execution_count": 1,
   "id": "580f5f5f-728d-42f7-bd63-496d7ac880f4",
   "metadata": {},
   "outputs": [],
   "source": [
    "#Answer no 2\n",
    "\n",
    "\n",
    "def reindex_with_increment(df):\n",
    "    df = df.reset_index(drop=True)\n",
    "    df.index = pd.RangeIndex(start=1, step=2, stop=len(df)*2)\n",
    "    return df\n"
   ]
  },
  {
   "cell_type": "code",
   "execution_count": 2,
   "id": "dfde76bb-77de-4768-bd10-1abf968e3507",
   "metadata": {},
   "outputs": [],
   "source": [
    "#Answer no 3 \n"
   ]
  },
  {
   "cell_type": "code",
   "execution_count": 3,
   "id": "4ac86b8f-82d1-471e-86f9-4d4662a9cb3f",
   "metadata": {},
   "outputs": [],
   "source": [
    "\n",
    "\n",
    "def calculate_sum(df):\n",
    "    values_column = df['Values']\n",
    "    sum_of_first_three = sum(values_column.head(3))\n",
    "    print(\"Sum of the first three values:\", sum_of_first_three)\n"
   ]
  },
  {
   "cell_type": "code",
   "execution_count": 4,
   "id": "cafb6be9-abe1-4a15-9fb9-762afd5d6d17",
   "metadata": {},
   "outputs": [],
   "source": [
    "#Answer no 4 "
   ]
  },
  {
   "cell_type": "code",
   "execution_count": 6,
   "id": "e2d88c9b-ad72-45e6-ad84-9c3d2adf2bb0",
   "metadata": {},
   "outputs": [],
   "source": [
    "\n",
    "\n",
    "def add_word_count_column(df):\n",
    "    df['Word_Count'] = df['Text'].str.split().str.len()\n",
    "    return df\n",
    "\n"
   ]
  },
  {
   "cell_type": "code",
   "execution_count": 7,
   "id": "486527d2-82e7-4f27-aac1-f6153a1863e5",
   "metadata": {},
   "outputs": [],
   "source": [
    "#Answer no 5"
   ]
  },
  {
   "cell_type": "code",
   "execution_count": 8,
   "id": "d5d09dc0-3f06-4603-87ff-8caf19299a32",
   "metadata": {},
   "outputs": [],
   "source": [
    "#DataFrame.size() =====is a method that returns the total number of elements in a DataFrame, which is the product of the number of rows and columns.\n",
    "#It provides the count of all elements, including NaN or missing values, in the DataFrame.\n",
    "#The returned value is an integer representing the size of the DataFrame"
   ]
  },
  {
   "cell_type": "code",
   "execution_count": 9,
   "id": "a6556d37-3200-40d6-b84d-6d341b9bf220",
   "metadata": {},
   "outputs": [],
   "source": [
    "#DataFrame.shape is an attribute that returns a tuple representing the dimensions of the DataFrame.\n",
    "#It provides the number of rows and columns in the DataFrame.\n",
    "#The returned value is a tuple in the format (number of rows, number of columns)."
   ]
  },
  {
   "cell_type": "code",
   "execution_count": 11,
   "id": "fe565fe5-7c92-4029-b556-db2fbc3aafeb",
   "metadata": {},
   "outputs": [],
   "source": [
    "#Answer no 6 \n",
    "#pandas.read_excel()\n"
   ]
  },
  {
   "cell_type": "code",
   "execution_count": 12,
   "id": "7c37bb26-ca4f-4db7-af2b-ab50c0f8d311",
   "metadata": {},
   "outputs": [],
   "source": [
    "#answer no 7 "
   ]
  },
  {
   "cell_type": "code",
   "execution_count": 17,
   "id": "96e0c928-2108-41cf-9615-55ab78d19627",
   "metadata": {},
   "outputs": [],
   "source": [
    "def exct_username(df):\n",
    "    df['Usernmae']= df['Enmail'].str.split('@').str[0]\n",
    "    return df"
   ]
  },
  {
   "cell_type": "code",
   "execution_count": 18,
   "id": "0744a904-9a6e-4930-9717-90292915e7e3",
   "metadata": {},
   "outputs": [],
   "source": [
    "#Answer no 8"
   ]
  },
  {
   "cell_type": "code",
   "execution_count": 19,
   "id": "78181602-151b-43a5-b168-406878cb934d",
   "metadata": {},
   "outputs": [],
   "source": [
    "\n",
    "\n",
    "def filter_dataframe(df):\n",
    "    selected_rows = df[(df['A'] > 5) & (df['B'] < 10)]\n",
    "    return selected_rows\n"
   ]
  },
  {
   "cell_type": "code",
   "execution_count": 20,
   "id": "c11b1786-aab5-4949-b2f9-5cc594b103f7",
   "metadata": {},
   "outputs": [],
   "source": [
    "#Answer no 9"
   ]
  },
  {
   "cell_type": "code",
   "execution_count": 21,
   "id": "ec6c1136-41e8-41b6-b65e-c58a6ba1d922",
   "metadata": {},
   "outputs": [],
   "source": [
    "\n",
    "\n",
    "def calculate_stats(df):\n",
    "    values_column = df['Values']\n",
    "    mean = values_column.mean()\n",
    "    median = values_column.median()\n",
    "    std_dev = values_column.std()\n",
    "    \n",
    "    return mean, median, std_dev\n"
   ]
  },
  {
   "cell_type": "code",
   "execution_count": 22,
   "id": "4c7e479f-6ceb-4632-a299-49fe88a1aa36",
   "metadata": {},
   "outputs": [],
   "source": [
    "#Answer no 10"
   ]
  },
  {
   "cell_type": "code",
   "execution_count": 23,
   "id": "ed12147f-49d6-4bd8-9721-0d67f39d834b",
   "metadata": {},
   "outputs": [],
   "source": [
    "\n",
    "def calculate_moving_average(df):\n",
    "    df['MovingAverage'] = df['Sales'].rolling(window=7, min_periods=1).mean()\n",
    "    return df\n"
   ]
  },
  {
   "cell_type": "code",
   "execution_count": 24,
   "id": "3959cc91-4ee2-42bd-a1d4-17b14ee868c7",
   "metadata": {},
   "outputs": [],
   "source": [
    "#answer no 11 "
   ]
  },
  {
   "cell_type": "code",
   "execution_count": 25,
   "id": "6d532d07-bd27-4cfa-92e6-52cd040871f8",
   "metadata": {},
   "outputs": [],
   "source": [
    "\n",
    "def add_weekday_column(df):\n",
    "    df['Weekday'] = pd.to_datetime(df['Date']).dt.day_name()\n",
    "    return df\n"
   ]
  },
  {
   "cell_type": "code",
   "execution_count": 26,
   "id": "d047b43d-0418-49d8-b77a-8fa0a93f009b",
   "metadata": {},
   "outputs": [],
   "source": [
    "#anser no 12"
   ]
  },
  {
   "cell_type": "code",
   "execution_count": null,
   "id": "0dacbd84-0dfe-40b3-8f7a-d4c207b2eebf",
   "metadata": {},
   "outputs": [],
   "source": [
    "\n",
    "def filter_by_date(df):\n",
    "    mask = (df['Date'] >= '2023-01-01') & (df['Date'] <= '2023-01-31')\n",
    "    selected_rows = df[mask]\n",
    "    return selected_rows\n"
   ]
  }
 ],
 "metadata": {
  "kernelspec": {
   "display_name": "Python 3 (ipykernel)",
   "language": "python",
   "name": "python3"
  },
  "language_info": {
   "codemirror_mode": {
    "name": "ipython",
    "version": 3
   },
   "file_extension": ".py",
   "mimetype": "text/x-python",
   "name": "python",
   "nbconvert_exporter": "python",
   "pygments_lexer": "ipython3",
   "version": "3.10.8"
  }
 },
 "nbformat": 4,
 "nbformat_minor": 5
}
